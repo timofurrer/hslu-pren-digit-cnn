{
 "cells": [
  {
   "cell_type": "markdown",
   "metadata": {},
   "source": [
    "# Image Data Augmentation\n",
    "\n",
    "This notebook can be used to do data augmentation on a set of test images.\n",
    "\n",
    "It randomly applies the following augmentations:\n",
    "* Horizontal shift\n",
    "* Vertical shift\n",
    "* Rotation\n",
    "* Brightniss\n",
    "* Zoom"
   ]
  },
  {
   "cell_type": "code",
   "execution_count": null,
   "metadata": {},
   "outputs": [],
   "source": [
    "from pathlib import Path\n",
    "\n",
    "ROOT_DIR = Path().absolute().parent \n",
    "TEST_IMAGES_BASE = ROOT_DIR / \"images\""
   ]
  },
  {
   "cell_type": "code",
   "execution_count": null,
   "metadata": {},
   "outputs": [],
   "source": [
    "import numpy as np\n",
    "import pandas as pd\n",
    "import cv2\n",
    "import matplotlib as mpl\n",
    "import matplotlib.pyplot as plt\n",
    "\n",
    "# example of horizontal shift image augmentation\n",
    "from keras.preprocessing.image import load_img\n",
    "from keras.preprocessing.image import img_to_array\n",
    "from keras.preprocessing.image import ImageDataGenerator"
   ]
  },
  {
   "cell_type": "markdown",
   "metadata": {},
   "source": [
    "## Convert test images to grayscale"
   ]
  },
  {
   "cell_type": "code",
   "execution_count": null,
   "metadata": {},
   "outputs": [],
   "source": [
    "target_dir = TEST_IMAGES_BASE.parent / \"images-augmented\"\n",
    "if not target_dir.is_dir():\n",
    "    target_dir.mkdir(parents=True)"
   ]
  },
  {
   "cell_type": "code",
   "execution_count": null,
   "metadata": {},
   "outputs": [],
   "source": [
    "for image_path in TEST_IMAGES_BASE.iterdir():\n",
    "    colored_image = cv2.imread(str(image_path), 0)\n",
    "    cv2.imwrite(str(target_dir / image_path.name), colored_image)"
   ]
  },
  {
   "cell_type": "markdown",
   "metadata": {},
   "source": [
    "## Create new trainings data"
   ]
  },
  {
   "cell_type": "code",
   "execution_count": null,
   "metadata": {},
   "outputs": [],
   "source": [
    "def show_generated_images(images):\n",
    "    for i, image in enumerate(images):\n",
    "        plt.subplot(330 + 1 + i)\n",
    "        plt.imshow(image)\n",
    "    plt.show()"
   ]
  },
  {
   "cell_type": "code",
   "execution_count": null,
   "metadata": {},
   "outputs": [],
   "source": [
    "def augment(image_path, count):\n",
    "    img = load_img(image_path)\n",
    "    data = img_to_array(img)\n",
    "    # expand dimension to one sample\n",
    "    samples = np.expand_dims(data, 0)\n",
    "    # create image data augmentation generator\n",
    "    datagen = ImageDataGenerator(\n",
    "        width_shift_range=[-2, 2],\n",
    "        height_shift_range=[-2, 2],\n",
    "        rotation_range=10,\n",
    "        brightness_range=[0.2, 1.0],\n",
    "        zoom_range=0.2\n",
    "    )\n",
    "    it = datagen.flow(samples, batch_size=1)\n",
    "    images = []\n",
    "    for i in range(count):\n",
    "        batch = it.next()\n",
    "        image = batch[0].astype('uint8')\n",
    "        images.append(image)\n",
    "    return images"
   ]
  },
  {
   "cell_type": "code",
   "execution_count": null,
   "metadata": {},
   "outputs": [],
   "source": [
    "DEMO_IMAGE = TEST_IMAGES_BASE / \"2_10.jpg\"\n",
    "    \n",
    "images = augment(str(DEMO_IMAGE), count=9)\n",
    "show_generated_images(images)"
   ]
  },
  {
   "cell_type": "markdown",
   "metadata": {},
   "source": [
    "## Generate Test Images"
   ]
  },
  {
   "cell_type": "code",
   "execution_count": null,
   "metadata": {
    "scrolled": false
   },
   "outputs": [],
   "source": [
    "AUGMENTATIONS_PER_IMAGE = 200\n",
    "\n",
    "for image_path in target_dir.iterdir():\n",
    "    augmented_images = augment(image_path, count=AUGMENTATIONS_PER_IMAGE)\n",
    "    \n",
    "    for i, augmented_image in enumerate(augmented_images):\n",
    "        augmented_image = cv2.cvtColor(augmented_image, cv2.COLOR_BGR2GRAY)\n",
    "        cv2.imwrite(str(image_path.parent / f\"{image_path.stem}_augment_{i}.jpg\"), augmented_image)"
   ]
  },
  {
   "cell_type": "markdown",
   "metadata": {},
   "source": [
    "## Create Dataset"
   ]
  },
  {
   "cell_type": "code",
   "execution_count": null,
   "metadata": {},
   "outputs": [],
   "source": [
    "image_shape = (28, 28)"
   ]
  },
  {
   "cell_type": "code",
   "execution_count": null,
   "metadata": {},
   "outputs": [],
   "source": [
    "data = []\n",
    "for i, image_path in enumerate(target_dir.iterdir()):\n",
    "    image = cv2.imread(str(image_path), 0)\n",
    "    image = cv2.resize(image, (28, 28))\n",
    "    label = image_path.stem.split(\"_\")[0]\n",
    "    row = {\"label\": label}\n",
    "    for p, pixel in enumerate(image.ravel()):\n",
    "        row[\"pixel{}\".format(p)] = pixel\n",
    "    data.append(row)\n",
    "    del image\n",
    "    if i % 100 == 0:\n",
    "        print(f\"Loaded image {i}\")\n",
    "\n",
    "df = pd.DataFrame(data, columns=[\"label\"] + [\"pixel{}\".format(i) for i in range(image_shape[0] * image_shape[1])])\n",
    "df.head()"
   ]
  },
  {
   "cell_type": "code",
   "execution_count": null,
   "metadata": {},
   "outputs": [],
   "source": [
    "df.to_csv(target_dir / \"dataset.csv\", chunksize=1024)"
   ]
  },
  {
   "cell_type": "code",
   "execution_count": null,
   "metadata": {},
   "outputs": [],
   "source": []
  }
 ],
 "metadata": {
  "kernelspec": {
   "display_name": "Python 3",
   "language": "python",
   "name": "python3"
  },
  "language_info": {
   "codemirror_mode": {
    "name": "ipython",
    "version": 3
   },
   "file_extension": ".py",
   "mimetype": "text/x-python",
   "name": "python",
   "nbconvert_exporter": "python",
   "pygments_lexer": "ipython3",
   "version": "3.6.8"
  }
 },
 "nbformat": 4,
 "nbformat_minor": 2
}
